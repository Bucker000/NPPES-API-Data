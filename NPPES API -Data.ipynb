{
 "cells": [
  {
   "cell_type": "code",
   "execution_count": 2,
   "id": "7df04bbd",
   "metadata": {},
   "outputs": [],
   "source": [
    "import requests\n",
    "import pandas as pd\n",
    "import csv"
   ]
  },
  {
   "cell_type": "code",
   "execution_count": 3,
   "id": "e632899a",
   "metadata": {},
   "outputs": [],
   "source": [
    "response = requests.get('https://npiregistry.cms.hhs.gov/api/?version=2.1')"
   ]
  },
  {
   "cell_type": "code",
   "execution_count": 68,
   "id": "c9fc2fb8",
   "metadata": {
    "scrolled": true
   },
   "outputs": [
    {
     "data": {
      "text/plain": [
       "200"
      ]
     },
     "execution_count": 68,
     "metadata": {},
     "output_type": "execute_result"
    }
   ],
   "source": [
    "response.status_code"
   ]
  },
  {
   "cell_type": "code",
   "execution_count": 5,
   "id": "6df6039f",
   "metadata": {},
   "outputs": [],
   "source": [
    "response = requests.get('https://npiregistry.cms.hhs.gov/api/?number=1063412872')"
   ]
  },
  {
   "cell_type": "code",
   "execution_count": 7,
   "id": "ac09f33e",
   "metadata": {
    "scrolled": true
   },
   "outputs": [
    {
     "name": "stdout",
     "output_type": "stream",
     "text": [
      "status: 200\n",
      "result: {'result_count': 1, 'results': [{'created_epoch': '1122058181000', 'enumeration_type': 'NPI-1', 'last_updated_epoch': '1222442965000', 'number': '1063412872', 'addresses': [{'country_code': 'US', 'country_name': 'United States', 'address_purpose': 'LOCATION', 'address_type': 'DOM', 'address_1': '600 E 233RD ST', 'city': 'BRONX', 'state': 'NY', 'postal_code': '104662604', 'telephone_number': '914-493-7997', 'fax_number': '914-594-4022'}, {'country_code': 'US', 'country_name': 'United States', 'address_purpose': 'MAILING', 'address_type': 'DOM', 'address_1': '600 E 233RD ST', 'address_2': 'DEPT. OF PEDIATRICS', 'city': 'BRONX', 'state': 'NY', 'postal_code': '104662604', 'telephone_number': '914-493-7997', 'fax_number': '914-594-4022'}], 'practiceLocations': [], 'basic': {'first_name': 'INDIRA', 'last_name': 'DASGUPTA', 'credential': 'M.D.', 'sole_proprietor': 'NO', 'gender': 'F', 'enumeration_date': '2005-07-22', 'last_updated': '2008-09-26', 'status': 'A', 'name_prefix': '--', 'name_suffix': '--'}, 'taxonomies': [{'code': '2080P0207X', 'taxonomy_group': '', 'desc': 'Pediatrics, Pediatric Hematology-Oncology', 'state': 'NY', 'license': '132189', 'primary': True}], 'identifiers': [{'code': '05', 'desc': 'MEDICAID', 'issuer': None, 'identifier': '00728198', 'state': 'NY'}, {'code': '08', 'desc': 'MEDICARE PIN', 'issuer': None, 'identifier': '77A001', 'state': 'NY'}, {'code': '02', 'desc': 'MEDICARE UPIN', 'issuer': None, 'identifier': 'B19268', 'state': 'NY'}], 'endpoints': [], 'other_names': []}]}\n"
     ]
    }
   ],
   "source": [
    "response = requests.get('https://npiregistry.cms.hhs.gov/api/?version=2.1&number=1063412872&pretty=on')\n",
    "\n",
    "print('status:',response.status_code)\n",
    "\n",
    "print('result:',response.json())"
   ]
  },
  {
   "cell_type": "code",
   "execution_count": 8,
   "id": "2e9742d2",
   "metadata": {},
   "outputs": [],
   "source": [
    "#the npis used to pull for\n",
    "npi_list = [1063412872,\n",
    "1063495901,\n",
    "1063618866,\n",
    "1932838406,\n",
    "1073799847,\n",
    "1073806774,\n",
    "1568432201,\n",
    "1457669863,\n",
    "1578549689,\n",
    "1588629661,]"
   ]
  },
  {
   "cell_type": "code",
   "execution_count": 10,
   "id": "f11eeb91",
   "metadata": {},
   "outputs": [
    {
     "name": "stdout",
     "output_type": "stream",
     "text": [
      "NPI: 1063412872 | first_name: INDIRA | last_name: DASGUPTA | taxonomy_code: 2080P0207X | desc: Pediatrics, Pediatric Hematology-Oncology | license_num: 132189\n",
      "NPI: 1063495901 | first_name: BILAL | last_name: PIPERDI | taxonomy_code: 207RH0003X | desc: Internal Medicine, Hematology & Oncology | license_num: 220484\n",
      "NPI: 1063618866 | first_name: MARGARET | last_name: FRUZZETTI | taxonomy_code: 363LP0200X | desc: Nurse Practitioner, Pediatrics | license_num: F381831\n",
      "NPI: 1932838406 | first_name: ARASH | last_name: ASHOURI | taxonomy_code: 1223G0001X | desc: Dentist, General Practice | license_num: 38473\n",
      "NPI: 1073799847 | first_name: RACHEL | last_name: GROSS | taxonomy_code: 208000000X | desc: Pediatrics | license_num: 244772\n",
      "NPI: 1073806774 | first_name: MARCEL | last_name: STEVENSON | taxonomy_code: 363LP0200X | desc: Nurse Practitioner, Pediatrics | license_num: F382192\n",
      "NPI: 1568432201 | first_name: PAUL | last_name: KUFLIK | taxonomy_code: 207X00000X | desc: Orthopaedic Surgery | license_num: 150968\n",
      "NPI: 1457669863 | first_name: BELINDA | last_name: ROBERTS | taxonomy_code: 363LF0000X | desc: Nurse Practitioner, Family | license_num: 201050183NP\n",
      "NPI: 1578549689 | first_name: ARNOLD | last_name: STRASHUN | taxonomy_code: 2085R0202X | desc: Radiology, Diagnostic Radiology | license_num: 138694-1\n",
      "NPI: 1588629661 | first_name: ALEC | last_name: MEGIBOW | taxonomy_code: 2085R0202X | desc: Radiology, Diagnostic Radiology | license_num: 126021\n"
     ]
    }
   ],
   "source": [
    "#this was to just look at whats pulled\n",
    "for x in npi_list:\n",
    "    response = requests.get(f'https://npiregistry.cms.hhs.gov/api/?version=2.1&number={x}&pretty=on')\n",
    "    print('NPI:' ,response.json()['results'][0]['number'],\n",
    "          '| first_name:', response.json()['results'][0]['basic']['first_name'],\n",
    "          '| last_name:', response.json()['results'][0]['basic']['last_name'],\n",
    "          '| taxonomy_code:', response.json()['results'][0]['taxonomies'][0]['code'],\n",
    "          '| desc:', response.json()['results'][0]['taxonomies'][0]['desc'],\n",
    "          '| license_num:', response.json()['results'][0]['taxonomies'][0]['license']\n",
    "         )"
   ]
  },
  {
   "cell_type": "code",
   "execution_count": 59,
   "id": "a33ef3c3",
   "metadata": {},
   "outputs": [
    {
     "data": {
      "text/html": [
       "<div>\n",
       "<style scoped>\n",
       "    .dataframe tbody tr th:only-of-type {\n",
       "        vertical-align: middle;\n",
       "    }\n",
       "\n",
       "    .dataframe tbody tr th {\n",
       "        vertical-align: top;\n",
       "    }\n",
       "\n",
       "    .dataframe thead th {\n",
       "        text-align: right;\n",
       "    }\n",
       "</style>\n",
       "<table border=\"1\" class=\"dataframe\">\n",
       "  <thead>\n",
       "    <tr style=\"text-align: right;\">\n",
       "      <th></th>\n",
       "      <th>npi</th>\n",
       "      <th>first_name</th>\n",
       "      <th>last_name</th>\n",
       "      <th>taxonomy_code</th>\n",
       "      <th>description</th>\n",
       "      <th>license_number</th>\n",
       "    </tr>\n",
       "  </thead>\n",
       "  <tbody>\n",
       "  </tbody>\n",
       "</table>\n",
       "</div>"
      ],
      "text/plain": [
       "Empty DataFrame\n",
       "Columns: [npi, first_name, last_name, taxonomy_code, description, license_number]\n",
       "Index: []"
      ]
     },
     "execution_count": 59,
     "metadata": {},
     "output_type": "execute_result"
    }
   ],
   "source": [
    "#creating the DataFrame\n",
    "data = {'npi': [], 'first_name': [], 'last_name': [], 'taxonomy_code': [], 'description': [], 'license_number': []}\n",
    "df = pd.DataFrame(data)\n",
    "df"
   ]
  },
  {
   "cell_type": "code",
   "execution_count": 60,
   "id": "c5dfdc2c",
   "metadata": {
    "scrolled": true
   },
   "outputs": [
    {
     "name": "stderr",
     "output_type": "stream",
     "text": [
      "/var/folders/4j/5p7cthtd48xcghfjjrhwf39m0000gp/T/ipykernel_5979/1693619576.py:3: FutureWarning: The frame.append method is deprecated and will be removed from pandas in a future version. Use pandas.concat instead.\n",
      "  df = df.append({'npi': response.json()['results'][0]['number'],\n",
      "/var/folders/4j/5p7cthtd48xcghfjjrhwf39m0000gp/T/ipykernel_5979/1693619576.py:3: FutureWarning: The frame.append method is deprecated and will be removed from pandas in a future version. Use pandas.concat instead.\n",
      "  df = df.append({'npi': response.json()['results'][0]['number'],\n",
      "/var/folders/4j/5p7cthtd48xcghfjjrhwf39m0000gp/T/ipykernel_5979/1693619576.py:3: FutureWarning: The frame.append method is deprecated and will be removed from pandas in a future version. Use pandas.concat instead.\n",
      "  df = df.append({'npi': response.json()['results'][0]['number'],\n",
      "/var/folders/4j/5p7cthtd48xcghfjjrhwf39m0000gp/T/ipykernel_5979/1693619576.py:3: FutureWarning: The frame.append method is deprecated and will be removed from pandas in a future version. Use pandas.concat instead.\n",
      "  df = df.append({'npi': response.json()['results'][0]['number'],\n",
      "/var/folders/4j/5p7cthtd48xcghfjjrhwf39m0000gp/T/ipykernel_5979/1693619576.py:3: FutureWarning: The frame.append method is deprecated and will be removed from pandas in a future version. Use pandas.concat instead.\n",
      "  df = df.append({'npi': response.json()['results'][0]['number'],\n",
      "/var/folders/4j/5p7cthtd48xcghfjjrhwf39m0000gp/T/ipykernel_5979/1693619576.py:3: FutureWarning: The frame.append method is deprecated and will be removed from pandas in a future version. Use pandas.concat instead.\n",
      "  df = df.append({'npi': response.json()['results'][0]['number'],\n",
      "/var/folders/4j/5p7cthtd48xcghfjjrhwf39m0000gp/T/ipykernel_5979/1693619576.py:3: FutureWarning: The frame.append method is deprecated and will be removed from pandas in a future version. Use pandas.concat instead.\n",
      "  df = df.append({'npi': response.json()['results'][0]['number'],\n",
      "/var/folders/4j/5p7cthtd48xcghfjjrhwf39m0000gp/T/ipykernel_5979/1693619576.py:3: FutureWarning: The frame.append method is deprecated and will be removed from pandas in a future version. Use pandas.concat instead.\n",
      "  df = df.append({'npi': response.json()['results'][0]['number'],\n",
      "/var/folders/4j/5p7cthtd48xcghfjjrhwf39m0000gp/T/ipykernel_5979/1693619576.py:3: FutureWarning: The frame.append method is deprecated and will be removed from pandas in a future version. Use pandas.concat instead.\n",
      "  df = df.append({'npi': response.json()['results'][0]['number'],\n",
      "/var/folders/4j/5p7cthtd48xcghfjjrhwf39m0000gp/T/ipykernel_5979/1693619576.py:3: FutureWarning: The frame.append method is deprecated and will be removed from pandas in a future version. Use pandas.concat instead.\n",
      "  df = df.append({'npi': response.json()['results'][0]['number'],\n"
     ]
    }
   ],
   "source": [
    "#this will add the each npi based pull into the above created new dataframe\n",
    "for x in npi_list:\n",
    "    response = requests.get(f'https://npiregistry.cms.hhs.gov/api/?version=2.1&number={x}&pretty=on')\n",
    "    df = df.append({'npi': response.json()['results'][0]['number'],\n",
    "                    'first_name': response.json()['results'][0]['basic']['first_name'],\n",
    "                    'last_name': response.json()['results'][0]['basic']['last_name'],\n",
    "                    'taxonomy_code': response.json()['results'][0]['taxonomies'][0]['code'],\n",
    "                    'description': response.json()['results'][0]['taxonomies'][0]['desc'],\n",
    "                    'license_number': response.json()['results'][0]['taxonomies'][0]['license']\n",
    "                   }, ignore_index=True)"
   ]
  },
  {
   "cell_type": "code",
   "execution_count": 61,
   "id": "249c2f53",
   "metadata": {},
   "outputs": [
    {
     "data": {
      "text/html": [
       "<div>\n",
       "<style scoped>\n",
       "    .dataframe tbody tr th:only-of-type {\n",
       "        vertical-align: middle;\n",
       "    }\n",
       "\n",
       "    .dataframe tbody tr th {\n",
       "        vertical-align: top;\n",
       "    }\n",
       "\n",
       "    .dataframe thead th {\n",
       "        text-align: right;\n",
       "    }\n",
       "</style>\n",
       "<table border=\"1\" class=\"dataframe\">\n",
       "  <thead>\n",
       "    <tr style=\"text-align: right;\">\n",
       "      <th></th>\n",
       "      <th>npi</th>\n",
       "      <th>first_name</th>\n",
       "      <th>last_name</th>\n",
       "      <th>taxonomy_code</th>\n",
       "      <th>description</th>\n",
       "      <th>license_number</th>\n",
       "    </tr>\n",
       "  </thead>\n",
       "  <tbody>\n",
       "    <tr>\n",
       "      <th>0</th>\n",
       "      <td>1063412872</td>\n",
       "      <td>INDIRA</td>\n",
       "      <td>DASGUPTA</td>\n",
       "      <td>2080P0207X</td>\n",
       "      <td>Pediatrics, Pediatric Hematology-Oncology</td>\n",
       "      <td>132189</td>\n",
       "    </tr>\n",
       "    <tr>\n",
       "      <th>1</th>\n",
       "      <td>1063495901</td>\n",
       "      <td>BILAL</td>\n",
       "      <td>PIPERDI</td>\n",
       "      <td>207RH0003X</td>\n",
       "      <td>Internal Medicine, Hematology &amp; Oncology</td>\n",
       "      <td>220484</td>\n",
       "    </tr>\n",
       "    <tr>\n",
       "      <th>2</th>\n",
       "      <td>1063618866</td>\n",
       "      <td>MARGARET</td>\n",
       "      <td>FRUZZETTI</td>\n",
       "      <td>363LP0200X</td>\n",
       "      <td>Nurse Practitioner, Pediatrics</td>\n",
       "      <td>F381831</td>\n",
       "    </tr>\n",
       "    <tr>\n",
       "      <th>3</th>\n",
       "      <td>1932838406</td>\n",
       "      <td>ARASH</td>\n",
       "      <td>ASHOURI</td>\n",
       "      <td>1223G0001X</td>\n",
       "      <td>Dentist, General Practice</td>\n",
       "      <td>38473</td>\n",
       "    </tr>\n",
       "    <tr>\n",
       "      <th>4</th>\n",
       "      <td>1073799847</td>\n",
       "      <td>RACHEL</td>\n",
       "      <td>GROSS</td>\n",
       "      <td>208000000X</td>\n",
       "      <td>Pediatrics</td>\n",
       "      <td>244772</td>\n",
       "    </tr>\n",
       "    <tr>\n",
       "      <th>5</th>\n",
       "      <td>1073806774</td>\n",
       "      <td>MARCEL</td>\n",
       "      <td>STEVENSON</td>\n",
       "      <td>363LP0200X</td>\n",
       "      <td>Nurse Practitioner, Pediatrics</td>\n",
       "      <td>F382192</td>\n",
       "    </tr>\n",
       "    <tr>\n",
       "      <th>6</th>\n",
       "      <td>1568432201</td>\n",
       "      <td>PAUL</td>\n",
       "      <td>KUFLIK</td>\n",
       "      <td>207X00000X</td>\n",
       "      <td>Orthopaedic Surgery</td>\n",
       "      <td>150968</td>\n",
       "    </tr>\n",
       "    <tr>\n",
       "      <th>7</th>\n",
       "      <td>1457669863</td>\n",
       "      <td>BELINDA</td>\n",
       "      <td>ROBERTS</td>\n",
       "      <td>363LF0000X</td>\n",
       "      <td>Nurse Practitioner, Family</td>\n",
       "      <td>201050183NP</td>\n",
       "    </tr>\n",
       "    <tr>\n",
       "      <th>8</th>\n",
       "      <td>1578549689</td>\n",
       "      <td>ARNOLD</td>\n",
       "      <td>STRASHUN</td>\n",
       "      <td>2085R0202X</td>\n",
       "      <td>Radiology, Diagnostic Radiology</td>\n",
       "      <td>138694-1</td>\n",
       "    </tr>\n",
       "    <tr>\n",
       "      <th>9</th>\n",
       "      <td>1588629661</td>\n",
       "      <td>ALEC</td>\n",
       "      <td>MEGIBOW</td>\n",
       "      <td>2085R0202X</td>\n",
       "      <td>Radiology, Diagnostic Radiology</td>\n",
       "      <td>126021</td>\n",
       "    </tr>\n",
       "  </tbody>\n",
       "</table>\n",
       "</div>"
      ],
      "text/plain": [
       "          npi first_name  last_name taxonomy_code  \\\n",
       "0  1063412872     INDIRA   DASGUPTA    2080P0207X   \n",
       "1  1063495901      BILAL    PIPERDI    207RH0003X   \n",
       "2  1063618866   MARGARET  FRUZZETTI    363LP0200X   \n",
       "3  1932838406      ARASH    ASHOURI    1223G0001X   \n",
       "4  1073799847     RACHEL      GROSS    208000000X   \n",
       "5  1073806774     MARCEL  STEVENSON    363LP0200X   \n",
       "6  1568432201       PAUL     KUFLIK    207X00000X   \n",
       "7  1457669863    BELINDA    ROBERTS    363LF0000X   \n",
       "8  1578549689     ARNOLD   STRASHUN    2085R0202X   \n",
       "9  1588629661       ALEC    MEGIBOW    2085R0202X   \n",
       "\n",
       "                                 description license_number  \n",
       "0  Pediatrics, Pediatric Hematology-Oncology         132189  \n",
       "1   Internal Medicine, Hematology & Oncology         220484  \n",
       "2             Nurse Practitioner, Pediatrics        F381831  \n",
       "3                  Dentist, General Practice          38473  \n",
       "4                                 Pediatrics         244772  \n",
       "5             Nurse Practitioner, Pediatrics        F382192  \n",
       "6                        Orthopaedic Surgery         150968  \n",
       "7                 Nurse Practitioner, Family    201050183NP  \n",
       "8            Radiology, Diagnostic Radiology       138694-1  \n",
       "9            Radiology, Diagnostic Radiology         126021  "
      ]
     },
     "execution_count": 61,
     "metadata": {},
     "output_type": "execute_result"
    }
   ],
   "source": [
    "#viewing it looks good\n",
    "df"
   ]
  },
  {
   "cell_type": "code",
   "execution_count": 63,
   "id": "8f3a5bc6",
   "metadata": {},
   "outputs": [],
   "source": [
    "#saves it to the script location\n",
    "df.to_csv('NPPES_API_PULL.csv',index=False)"
   ]
  },
  {
   "cell_type": "code",
   "execution_count": null,
   "id": "5ddb285e",
   "metadata": {},
   "outputs": [],
   "source": []
  }
 ],
 "metadata": {
  "kernelspec": {
   "display_name": "Python 3 (ipykernel)",
   "language": "python",
   "name": "python3"
  },
  "language_info": {
   "codemirror_mode": {
    "name": "ipython",
    "version": 3
   },
   "file_extension": ".py",
   "mimetype": "text/x-python",
   "name": "python",
   "nbconvert_exporter": "python",
   "pygments_lexer": "ipython3",
   "version": "3.9.12"
  }
 },
 "nbformat": 4,
 "nbformat_minor": 5
}
