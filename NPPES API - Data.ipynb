{
 "cells": [
  {
   "cell_type": "code",
   "execution_count": 1,
   "id": "7df04bbd",
   "metadata": {},
   "outputs": [],
   "source": [
    "import requests\n",
    "import pandas as pd\n",
    "import csv"
   ]
  },
  {
   "cell_type": "code",
   "execution_count": 2,
   "id": "2e9742d2",
   "metadata": {},
   "outputs": [],
   "source": [
    "#the npis used to pull for\n",
    "npi_list = []"
   ]
  },
  {
   "cell_type": "code",
   "execution_count": 3,
   "id": "f11eeb91",
   "metadata": {},
   "outputs": [],
   "source": [
    "#this was to just look at whats pulled\n",
    "for x in npi_list:\n",
    "    response = requests.get(f'https://npiregistry.cms.hhs.gov/api/?version=2.1&number={x}&pretty=on')\n",
    "    print('NPI:' ,response.json()['results'][0]['number'],\n",
    "          '| first_name:', response.json()['results'][0]['basic']['first_name'],\n",
    "          '| last_name:', response.json()['results'][0]['basic']['last_name'],\n",
    "          '| taxonomy_code:', response.json()['results'][0]['taxonomies'][0]['code'],\n",
    "          '| desc:', response.json()['results'][0]['taxonomies'][0]['desc'],\n",
    "          '| license_num:', response.json()['results'][0]['taxonomies'][0]['license']\n",
    "         )"
   ]
  },
  {
   "cell_type": "code",
   "execution_count": 4,
   "id": "a33ef3c3",
   "metadata": {},
   "outputs": [
    {
     "data": {
      "text/html": [
       "<div>\n",
       "<style scoped>\n",
       "    .dataframe tbody tr th:only-of-type {\n",
       "        vertical-align: middle;\n",
       "    }\n",
       "\n",
       "    .dataframe tbody tr th {\n",
       "        vertical-align: top;\n",
       "    }\n",
       "\n",
       "    .dataframe thead th {\n",
       "        text-align: right;\n",
       "    }\n",
       "</style>\n",
       "<table border=\"1\" class=\"dataframe\">\n",
       "  <thead>\n",
       "    <tr style=\"text-align: right;\">\n",
       "      <th></th>\n",
       "      <th>npi</th>\n",
       "      <th>first_name</th>\n",
       "      <th>last_name</th>\n",
       "      <th>taxonomy_code</th>\n",
       "      <th>description</th>\n",
       "      <th>license_number</th>\n",
       "    </tr>\n",
       "  </thead>\n",
       "  <tbody>\n",
       "  </tbody>\n",
       "</table>\n",
       "</div>"
      ],
      "text/plain": [
       "Empty DataFrame\n",
       "Columns: [npi, first_name, last_name, taxonomy_code, description, license_number]\n",
       "Index: []"
      ]
     },
     "execution_count": 4,
     "metadata": {},
     "output_type": "execute_result"
    }
   ],
   "source": [
    "#creating the DataFrame\n",
    "data = {'npi': [], 'first_name': [], 'last_name': [], 'taxonomy_code': [], 'description': [], 'license_number': []}\n",
    "df = pd.DataFrame(data)\n",
    "df"
   ]
  },
  {
   "cell_type": "code",
   "execution_count": 5,
   "id": "c5dfdc2c",
   "metadata": {
    "scrolled": true
   },
   "outputs": [],
   "source": [
    "#this will add the each npi based pull into the above created new dataframe\n",
    "for x in npi_list:\n",
    "    response = requests.get(f'https://npiregistry.cms.hhs.gov/api/?version=2.1&number={x}&pretty=on')\n",
    "    df = df.append({'npi': response.json()['results'][0]['number'],\n",
    "                    'first_name': response.json()['results'][0]['basic']['first_name'],\n",
    "                    'last_name': response.json()['results'][0]['basic']['last_name'],\n",
    "                    'taxonomy_code': response.json()['results'][0]['taxonomies'][0]['code'],\n",
    "                    'description': response.json()['results'][0]['taxonomies'][0]['desc'],\n",
    "                    'license_number': response.json()['results'][0]['taxonomies'][0]['license']\n",
    "                   }, ignore_index=True)"
   ]
  },
  {
   "cell_type": "code",
   "execution_count": 6,
   "id": "249c2f53",
   "metadata": {},
   "outputs": [
    {
     "data": {
      "text/html": [
       "<div>\n",
       "<style scoped>\n",
       "    .dataframe tbody tr th:only-of-type {\n",
       "        vertical-align: middle;\n",
       "    }\n",
       "\n",
       "    .dataframe tbody tr th {\n",
       "        vertical-align: top;\n",
       "    }\n",
       "\n",
       "    .dataframe thead th {\n",
       "        text-align: right;\n",
       "    }\n",
       "</style>\n",
       "<table border=\"1\" class=\"dataframe\">\n",
       "  <thead>\n",
       "    <tr style=\"text-align: right;\">\n",
       "      <th></th>\n",
       "      <th>npi</th>\n",
       "      <th>first_name</th>\n",
       "      <th>last_name</th>\n",
       "      <th>taxonomy_code</th>\n",
       "      <th>description</th>\n",
       "      <th>license_number</th>\n",
       "    </tr>\n",
       "  </thead>\n",
       "  <tbody>\n",
       "  </tbody>\n",
       "</table>\n",
       "</div>"
      ],
      "text/plain": [
       "Empty DataFrame\n",
       "Columns: [npi, first_name, last_name, taxonomy_code, description, license_number]\n",
       "Index: []"
      ]
     },
     "execution_count": 6,
     "metadata": {},
     "output_type": "execute_result"
    }
   ],
   "source": [
    "#viewing it looks good\n",
    "df"
   ]
  },
  {
   "cell_type": "code",
   "execution_count": 63,
   "id": "8f3a5bc6",
   "metadata": {},
   "outputs": [],
   "source": [
    "#saves it to the script location\n",
    "df.to_csv('NPPES_API_PULL.csv',index=False)"
   ]
  },
  {
   "cell_type": "code",
   "execution_count": null,
   "id": "5ddb285e",
   "metadata": {},
   "outputs": [],
   "source": []
  }
 ],
 "metadata": {
  "kernelspec": {
   "display_name": "Python 3 (ipykernel)",
   "language": "python",
   "name": "python3"
  },
  "language_info": {
   "codemirror_mode": {
    "name": "ipython",
    "version": 3
   },
   "file_extension": ".py",
   "mimetype": "text/x-python",
   "name": "python",
   "nbconvert_exporter": "python",
   "pygments_lexer": "ipython3",
   "version": "3.9.12"
  }
 },
 "nbformat": 4,
 "nbformat_minor": 5
}
